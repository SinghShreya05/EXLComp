{
 "cells": [
  {
   "cell_type": "code",
   "execution_count": 1,
   "metadata": {
    "_cell_guid": "b1076dfc-b9ad-4769-8c92-a6c4dae69d19",
    "_uuid": "8f2839f25d086af736a60e9eeb907d3b93b6e0e5",
    "execution": {
     "iopub.execute_input": "2021-02-28T12:46:37.047513Z",
     "iopub.status.busy": "2021-02-28T12:46:37.046938Z",
     "iopub.status.idle": "2021-02-28T12:46:37.075959Z",
     "shell.execute_reply": "2021-02-28T12:46:37.075476Z"
    },
    "papermill": {
     "duration": 0.053694,
     "end_time": "2021-02-28T12:46:37.076112",
     "exception": false,
     "start_time": "2021-02-28T12:46:37.022418",
     "status": "completed"
    },
    "tags": []
   },
   "outputs": [
    {
     "name": "stdout",
     "output_type": "stream",
     "text": [
      "/kaggle/input/exl-training/EQ_2021_Data_Sample.csv\n",
      "/kaggle/input/exl-test/EQ-2021-Validation-Data-Sample.csv\n",
      "/kaggle/input/testt-exl/EQ-2021-Validation-Data-Sample.csv\n"
     ]
    }
   ],
   "source": [
    "# This Python 3 environment comes with many helpful analytics libraries installed\n",
    "# It is defined by the kaggle/python Docker image: https://github.com/kaggle/docker-python\n",
    "# For example, here's several helpful packages to load\n",
    "\n",
    "import numpy as np # linear algebra\n",
    "import pandas as pd # data processing, CSV file I/O (e.g. pd.read_csv)\n",
    "\n",
    "# Input data files are available in the read-only \"../input/\" directory\n",
    "# For example, running this (by clicking run or pressing Shift+Enter) will list all files under the input directory\n",
    "\n",
    "import os\n",
    "for dirname, _, filenames in os.walk('/kaggle/input'):\n",
    "    for filename in filenames:\n",
    "        print(os.path.join(dirname, filename))\n",
    "\n",
    "# You can write up to 20GB to the current directory (/kaggle/working/) that gets preserved as output when you create a version using \"Save & Run All\" \n",
    "# You can also write temporary files to /kaggle/temp/, but they won't be saved outside of the current session"
   ]
  },
  {
   "cell_type": "code",
   "execution_count": 2,
   "metadata": {
    "execution": {
     "iopub.execute_input": "2021-02-28T12:46:37.115665Z",
     "iopub.status.busy": "2021-02-28T12:46:37.115026Z",
     "iopub.status.idle": "2021-02-28T12:46:41.941781Z",
     "shell.execute_reply": "2021-02-28T12:46:41.940755Z"
    },
    "papermill": {
     "duration": 4.84781,
     "end_time": "2021-02-28T12:46:41.941919",
     "exception": false,
     "start_time": "2021-02-28T12:46:37.094109",
     "status": "completed"
    },
    "tags": []
   },
   "outputs": [],
   "source": [
    "import sklearn\n",
    "from sklearn.model_selection import train_test_split \n",
    "import xgboost as xgb\n",
    "from sklearn.metrics import mean_squared_error\n",
    "from sklearn.metrics import classification_report, confusion_matrix"
   ]
  },
  {
   "cell_type": "code",
   "execution_count": 3,
   "metadata": {
    "execution": {
     "iopub.execute_input": "2021-02-28T12:46:42.013959Z",
     "iopub.status.busy": "2021-02-28T12:46:42.012533Z",
     "iopub.status.idle": "2021-02-28T12:46:55.742964Z",
     "shell.execute_reply": "2021-02-28T12:46:55.742490Z"
    },
    "papermill": {
     "duration": 13.769929,
     "end_time": "2021-02-28T12:46:55.743110",
     "exception": false,
     "start_time": "2021-02-28T12:46:41.973181",
     "status": "completed"
    },
    "tags": []
   },
   "outputs": [
    {
     "name": "stderr",
     "output_type": "stream",
     "text": [
      "/opt/conda/lib/python3.7/site-packages/IPython/core/interactiveshell.py:3147: DtypeWarning: Columns (31,32,33,34) have mixed types.Specify dtype option on import or set low_memory=False.\n",
      "  interactivity=interactivity, compiler=compiler, result=result)\n"
     ]
    },
    {
     "data": {
      "text/html": [
       "<div>\n",
       "<style scoped>\n",
       "    .dataframe tbody tr th:only-of-type {\n",
       "        vertical-align: middle;\n",
       "    }\n",
       "\n",
       "    .dataframe tbody tr th {\n",
       "        vertical-align: top;\n",
       "    }\n",
       "\n",
       "    .dataframe thead th {\n",
       "        text-align: right;\n",
       "    }\n",
       "</style>\n",
       "<table border=\"1\" class=\"dataframe\">\n",
       "  <thead>\n",
       "    <tr style=\"text-align: right;\">\n",
       "      <th></th>\n",
       "      <th>countyFIPS</th>\n",
       "      <th>stateFIPS</th>\n",
       "      <th>date</th>\n",
       "      <th>confirmed_cases</th>\n",
       "      <th>deaths</th>\n",
       "      <th>google_mobility_retail_and_recreation</th>\n",
       "      <th>google_mobility_grocery_and_pharmacy</th>\n",
       "      <th>google_mobility_parks</th>\n",
       "      <th>google_mobility_transit_stations</th>\n",
       "      <th>google_mobility_workplaces</th>\n",
       "      <th>...</th>\n",
       "      <th>total_adult_patients_hospitalized_confirmed_covid_SD</th>\n",
       "      <th>total_pediatric_patients_hospitalized_confirmed_and_suspected_covid_SD</th>\n",
       "      <th>total_pediatric_patients_hospitalized_confirmed_covid_SD</th>\n",
       "      <th>inpatient_beds_utilization_SD</th>\n",
       "      <th>inpatient_beds_utilization_numerator_SD</th>\n",
       "      <th>inpatient_beds_utilization_denominator_SD</th>\n",
       "      <th>percent_of_inpatients_with_covid_SD</th>\n",
       "      <th>inpatient_bed_covid_utilization_SD</th>\n",
       "      <th>adult_icu_bed_covid_utilization_SD</th>\n",
       "      <th>adult_icu_bed_utilization_SD</th>\n",
       "    </tr>\n",
       "  </thead>\n",
       "  <tbody>\n",
       "    <tr>\n",
       "      <th>0</th>\n",
       "      <td>1001</td>\n",
       "      <td>1</td>\n",
       "      <td>2020-01-22</td>\n",
       "      <td>0</td>\n",
       "      <td>0</td>\n",
       "      <td>NaN</td>\n",
       "      <td>NaN</td>\n",
       "      <td>NaN</td>\n",
       "      <td>NaN</td>\n",
       "      <td>NaN</td>\n",
       "      <td>...</td>\n",
       "      <td>0.0</td>\n",
       "      <td>0.0</td>\n",
       "      <td>0.0</td>\n",
       "      <td>0.0</td>\n",
       "      <td>0.0</td>\n",
       "      <td>0.0</td>\n",
       "      <td>0.0</td>\n",
       "      <td>0.0</td>\n",
       "      <td>0.0</td>\n",
       "      <td>0.0</td>\n",
       "    </tr>\n",
       "    <tr>\n",
       "      <th>1</th>\n",
       "      <td>1003</td>\n",
       "      <td>1</td>\n",
       "      <td>2020-01-22</td>\n",
       "      <td>0</td>\n",
       "      <td>0</td>\n",
       "      <td>NaN</td>\n",
       "      <td>NaN</td>\n",
       "      <td>NaN</td>\n",
       "      <td>NaN</td>\n",
       "      <td>NaN</td>\n",
       "      <td>...</td>\n",
       "      <td>0.0</td>\n",
       "      <td>0.0</td>\n",
       "      <td>0.0</td>\n",
       "      <td>0.0</td>\n",
       "      <td>0.0</td>\n",
       "      <td>0.0</td>\n",
       "      <td>0.0</td>\n",
       "      <td>0.0</td>\n",
       "      <td>0.0</td>\n",
       "      <td>0.0</td>\n",
       "    </tr>\n",
       "  </tbody>\n",
       "</table>\n",
       "<p>2 rows × 82 columns</p>\n",
       "</div>"
      ],
      "text/plain": [
       "   countyFIPS  stateFIPS        date  confirmed_cases  deaths  \\\n",
       "0        1001          1  2020-01-22                0       0   \n",
       "1        1003          1  2020-01-22                0       0   \n",
       "\n",
       "   google_mobility_retail_and_recreation  \\\n",
       "0                                    NaN   \n",
       "1                                    NaN   \n",
       "\n",
       "   google_mobility_grocery_and_pharmacy  google_mobility_parks  \\\n",
       "0                                   NaN                    NaN   \n",
       "1                                   NaN                    NaN   \n",
       "\n",
       "   google_mobility_transit_stations  google_mobility_workplaces  ...  \\\n",
       "0                               NaN                         NaN  ...   \n",
       "1                               NaN                         NaN  ...   \n",
       "\n",
       "   total_adult_patients_hospitalized_confirmed_covid_SD  \\\n",
       "0                                                0.0      \n",
       "1                                                0.0      \n",
       "\n",
       "   total_pediatric_patients_hospitalized_confirmed_and_suspected_covid_SD  \\\n",
       "0                                                0.0                        \n",
       "1                                                0.0                        \n",
       "\n",
       "   total_pediatric_patients_hospitalized_confirmed_covid_SD  \\\n",
       "0                                                0.0          \n",
       "1                                                0.0          \n",
       "\n",
       "   inpatient_beds_utilization_SD  inpatient_beds_utilization_numerator_SD  \\\n",
       "0                            0.0                                      0.0   \n",
       "1                            0.0                                      0.0   \n",
       "\n",
       "   inpatient_beds_utilization_denominator_SD  \\\n",
       "0                                        0.0   \n",
       "1                                        0.0   \n",
       "\n",
       "   percent_of_inpatients_with_covid_SD  inpatient_bed_covid_utilization_SD  \\\n",
       "0                                  0.0                                 0.0   \n",
       "1                                  0.0                                 0.0   \n",
       "\n",
       "   adult_icu_bed_covid_utilization_SD  adult_icu_bed_utilization_SD  \n",
       "0                                 0.0                           0.0  \n",
       "1                                 0.0                           0.0  \n",
       "\n",
       "[2 rows x 82 columns]"
      ]
     },
     "execution_count": 3,
     "metadata": {},
     "output_type": "execute_result"
    }
   ],
   "source": [
    "data = pd.read_csv(\"/kaggle/input/exl-training/EQ_2021_Data_Sample.csv\")\n",
    "data.head(2)"
   ]
  },
  {
   "cell_type": "code",
   "execution_count": 4,
   "metadata": {
    "execution": {
     "iopub.execute_input": "2021-02-28T12:46:55.849765Z",
     "iopub.status.busy": "2021-02-28T12:46:55.849030Z",
     "iopub.status.idle": "2021-02-28T12:46:56.055288Z",
     "shell.execute_reply": "2021-02-28T12:46:56.054780Z"
    },
    "papermill": {
     "duration": 0.291939,
     "end_time": "2021-02-28T12:46:56.055417",
     "exception": false,
     "start_time": "2021-02-28T12:46:55.763478",
     "status": "completed"
    },
    "tags": []
   },
   "outputs": [],
   "source": [
    "data['date'] = pd.to_datetime(data['date'])    \n",
    "data['date_delta'] = (data['date'] - data['date'].min())\n",
    "data[\"date_delta\"] = data[\"date_delta\"].astype('timedelta64[D]')"
   ]
  },
  {
   "cell_type": "code",
   "execution_count": 5,
   "metadata": {
    "execution": {
     "iopub.execute_input": "2021-02-28T12:46:56.102252Z",
     "iopub.status.busy": "2021-02-28T12:46:56.101093Z",
     "iopub.status.idle": "2021-02-28T12:46:56.805020Z",
     "shell.execute_reply": "2021-02-28T12:46:56.805580Z"
    },
    "papermill": {
     "duration": 0.731228,
     "end_time": "2021-02-28T12:46:56.805737",
     "exception": false,
     "start_time": "2021-02-28T12:46:56.074509",
     "status": "completed"
    },
    "tags": []
   },
   "outputs": [
    {
     "name": "stdout",
     "output_type": "stream",
     "text": [
      "\n",
      "numeric columns:\n",
      " Index(['countyFIPS', 'stateFIPS', 'confirmed_cases', 'deaths',\n",
      "       'google_mobility_retail_and_recreation',\n",
      "       'google_mobility_grocery_and_pharmacy', 'google_mobility_parks',\n",
      "       'google_mobility_transit_stations', 'google_mobility_workplaces',\n",
      "       'google_mobility_residential', 'apple_mobility_driving',\n",
      "       'apple_mobility_transit', 'apple_mobility_walking',\n",
      "       'Electricity_Sales_ Revenue_Residential ($ x1000)',\n",
      "       'Electricity_Sales_ Sales_Residential (MWHr)',\n",
      "       'Electricity_Sales_ Customers_Count_Residential',\n",
      "       'Electricity_Sales_ Revenue_Commercial ($ x1000)',\n",
      "       'Electricity_Sales_ Sales_Commercial (MWHr)',\n",
      "       'Electricity_Sales_ Customers_Count_Commercial',\n",
      "       'Electricity_Sales_ Revenue_Industrial ($ x1000)',\n",
      "       'Electricity_Sales_ Sales_Industrial (MWHr)',\n",
      "       'Electricity_Sales_ Customers_Count_Industrial',\n",
      "       'Electricity_Sales_ Revenue_Transportation ($ x1000)',\n",
      "       'Electricity_Sales_ Sales_Transportation (MWHr)',\n",
      "       'Electricity_Sales_ Customers_Count_Transportation',\n",
      "       'DOMESTIC_Air_Passengers', 'INTERNATIONAL_Air_Passengers',\n",
      "       'DOMESTIC_Flights_Cnt', 'INTERNATIONAL_Flights_Cnt',\n",
      "       'YoY_Reopened_Seated_Diner_Data', 'C_PCTPOVALL_2019',\n",
      "       'C_PCTPOV017_2019', 'C_PCTPOV517_2019', 'C_MEDHHINC_2019', 'C_TOT_POP',\n",
      "       'C_TOT_MALE', 'C_TOT_FEMALE', 'C_WA_MALE', 'C_WA_FEMALE',\n",
      "       'C_MinorityPCT', 'C_BlackPCT', 'C_HispanicPCT', 'C_M_Labour_Force_corr',\n",
      "       'C_M_Employed_corr', 'C_M_Unemployment_Rate_corr', 'S_D_dly_new_test',\n",
      "       'S_D_cummulative_test', 'initclaims_count_regular_cw',\n",
      "       'initclaims_rate_regular_cw', 'spend_all_cd', 'merchants_all_cd',\n",
      "       'revenue_all_cd', 'critical_staffing_shortage_today_yes_SD',\n",
      "       'critical_staffing_shortage_anticipated_within_week_yes_SD',\n",
      "       'hospital_onset_covid_SD', 'hospital_onset_covid_coverage_SD',\n",
      "       'inpatient_beds_SD', 'inpatient_beds_coverage_SD',\n",
      "       'previous_day_admission_adult_covid_confirmed_SD',\n",
      "       'previous_day_admission_adult_covid_suspected_SD',\n",
      "       'previous_day_admission_pediatric_covid_confirmed_SD',\n",
      "       'previous_day_admission_pediatric_covid_suspected_SD',\n",
      "       'staffed_adult_icu_bed_occupancy_SD',\n",
      "       'staffed_adult_icu_bed_occupancy_coverage_SD',\n",
      "       'staffed_icu_adult_patients_confirmed_and_suspected_covid_SD',\n",
      "       'staffed_icu_adult_patients_confirmed_covid_SD',\n",
      "       'total_adult_patients_hospitalized_confirmed_and_suspected_covid_SD',\n",
      "       'total_adult_patients_hospitalized_confirmed_covid_SD',\n",
      "       'total_pediatric_patients_hospitalized_confirmed_and_suspected_covid_SD',\n",
      "       'total_pediatric_patients_hospitalized_confirmed_covid_SD',\n",
      "       'inpatient_beds_utilization_SD',\n",
      "       'inpatient_beds_utilization_numerator_SD',\n",
      "       'inpatient_beds_utilization_denominator_SD',\n",
      "       'percent_of_inpatients_with_covid_SD',\n",
      "       'inpatient_bed_covid_utilization_SD',\n",
      "       'adult_icu_bed_covid_utilization_SD', 'adult_icu_bed_utilization_SD',\n",
      "       'date_delta'],\n",
      "      dtype='object')\n",
      "\n",
      "object columns:\n",
      " Index(['test_count', 'test_rate', 'new_test_rate', 'new_test_count'], dtype='object')\n"
     ]
    }
   ],
   "source": [
    "numeric_columns = data.select_dtypes(include=['float64','int64']).columns \n",
    "object_columns = data.select_dtypes(include=['object']).columns \n",
    "print('\\nnumeric columns:\\n', numeric_columns) \n",
    "print('\\nobject columns:\\n', object_columns)"
   ]
  },
  {
   "cell_type": "code",
   "execution_count": 6,
   "metadata": {
    "execution": {
     "iopub.execute_input": "2021-02-28T12:46:56.850205Z",
     "iopub.status.busy": "2021-02-28T12:46:56.849325Z",
     "iopub.status.idle": "2021-02-28T12:46:57.461722Z",
     "shell.execute_reply": "2021-02-28T12:46:57.460652Z"
    },
    "papermill": {
     "duration": 0.63644,
     "end_time": "2021-02-28T12:46:57.461855",
     "exception": false,
     "start_time": "2021-02-28T12:46:56.825415",
     "status": "completed"
    },
    "tags": []
   },
   "outputs": [],
   "source": [
    "percent_missing = data.isnull().sum() * 100 / len(data)\n",
    "missing_value_data = pd.DataFrame({'column_name': data.columns,\n",
    "                                 'percent_missing': percent_missing})\n",
    "missing_value_data.sort_values('percent_missing', inplace=True)"
   ]
  },
  {
   "cell_type": "code",
   "execution_count": 7,
   "metadata": {
    "execution": {
     "iopub.execute_input": "2021-02-28T12:46:57.512143Z",
     "iopub.status.busy": "2021-02-28T12:46:57.511595Z",
     "iopub.status.idle": "2021-02-28T12:46:57.517883Z",
     "shell.execute_reply": "2021-02-28T12:46:57.517358Z"
    },
    "papermill": {
     "duration": 0.036326,
     "end_time": "2021-02-28T12:46:57.518014",
     "exception": false,
     "start_time": "2021-02-28T12:46:57.481688",
     "status": "completed"
    },
    "tags": []
   },
   "outputs": [
    {
     "data": {
      "text/html": [
       "<div>\n",
       "<style scoped>\n",
       "    .dataframe tbody tr th:only-of-type {\n",
       "        vertical-align: middle;\n",
       "    }\n",
       "\n",
       "    .dataframe tbody tr th {\n",
       "        vertical-align: top;\n",
       "    }\n",
       "\n",
       "    .dataframe thead th {\n",
       "        text-align: right;\n",
       "    }\n",
       "</style>\n",
       "<table border=\"1\" class=\"dataframe\">\n",
       "  <thead>\n",
       "    <tr style=\"text-align: right;\">\n",
       "      <th></th>\n",
       "      <th>column_name</th>\n",
       "      <th>percent_missing</th>\n",
       "    </tr>\n",
       "  </thead>\n",
       "  <tbody>\n",
       "    <tr>\n",
       "      <th>countyFIPS</th>\n",
       "      <td>countyFIPS</td>\n",
       "      <td>0.000000</td>\n",
       "    </tr>\n",
       "    <tr>\n",
       "      <th>new_test_count</th>\n",
       "      <td>new_test_count</td>\n",
       "      <td>0.000000</td>\n",
       "    </tr>\n",
       "    <tr>\n",
       "      <th>new_test_rate</th>\n",
       "      <td>new_test_rate</td>\n",
       "      <td>0.000000</td>\n",
       "    </tr>\n",
       "    <tr>\n",
       "      <th>test_rate</th>\n",
       "      <td>test_rate</td>\n",
       "      <td>0.000000</td>\n",
       "    </tr>\n",
       "    <tr>\n",
       "      <th>test_count</th>\n",
       "      <td>test_count</td>\n",
       "      <td>0.000000</td>\n",
       "    </tr>\n",
       "    <tr>\n",
       "      <th>...</th>\n",
       "      <td>...</td>\n",
       "      <td>...</td>\n",
       "    </tr>\n",
       "    <tr>\n",
       "      <th>google_mobility_transit_stations</th>\n",
       "      <td>google_mobility_transit_stations</td>\n",
       "      <td>72.979671</td>\n",
       "    </tr>\n",
       "    <tr>\n",
       "      <th>google_mobility_parks</th>\n",
       "      <td>google_mobility_parks</td>\n",
       "      <td>83.303275</td>\n",
       "    </tr>\n",
       "    <tr>\n",
       "      <th>YoY_Reopened_Seated_Diner_Data</th>\n",
       "      <td>YoY_Reopened_Seated_Diner_Data</td>\n",
       "      <td>85.917626</td>\n",
       "    </tr>\n",
       "    <tr>\n",
       "      <th>apple_mobility_walking</th>\n",
       "      <td>apple_mobility_walking</td>\n",
       "      <td>87.885533</td>\n",
       "    </tr>\n",
       "    <tr>\n",
       "      <th>apple_mobility_transit</th>\n",
       "      <td>apple_mobility_transit</td>\n",
       "      <td>95.389507</td>\n",
       "    </tr>\n",
       "  </tbody>\n",
       "</table>\n",
       "<p>83 rows × 2 columns</p>\n",
       "</div>"
      ],
      "text/plain": [
       "                                                       column_name  \\\n",
       "countyFIPS                                              countyFIPS   \n",
       "new_test_count                                      new_test_count   \n",
       "new_test_rate                                        new_test_rate   \n",
       "test_rate                                                test_rate   \n",
       "test_count                                              test_count   \n",
       "...                                                            ...   \n",
       "google_mobility_transit_stations  google_mobility_transit_stations   \n",
       "google_mobility_parks                        google_mobility_parks   \n",
       "YoY_Reopened_Seated_Diner_Data      YoY_Reopened_Seated_Diner_Data   \n",
       "apple_mobility_walking                      apple_mobility_walking   \n",
       "apple_mobility_transit                      apple_mobility_transit   \n",
       "\n",
       "                                  percent_missing  \n",
       "countyFIPS                               0.000000  \n",
       "new_test_count                           0.000000  \n",
       "new_test_rate                            0.000000  \n",
       "test_rate                                0.000000  \n",
       "test_count                               0.000000  \n",
       "...                                           ...  \n",
       "google_mobility_transit_stations        72.979671  \n",
       "google_mobility_parks                   83.303275  \n",
       "YoY_Reopened_Seated_Diner_Data          85.917626  \n",
       "apple_mobility_walking                  87.885533  \n",
       "apple_mobility_transit                  95.389507  \n",
       "\n",
       "[83 rows x 2 columns]"
      ]
     },
     "execution_count": 7,
     "metadata": {},
     "output_type": "execute_result"
    }
   ],
   "source": [
    "missing_value_data"
   ]
  },
  {
   "cell_type": "code",
   "execution_count": 8,
   "metadata": {
    "execution": {
     "iopub.execute_input": "2021-02-28T12:46:57.770644Z",
     "iopub.status.busy": "2021-02-28T12:46:57.769385Z",
     "iopub.status.idle": "2021-02-28T12:47:00.339449Z",
     "shell.execute_reply": "2021-02-28T12:47:00.338800Z"
    },
    "papermill": {
     "duration": 2.801963,
     "end_time": "2021-02-28T12:47:00.339635",
     "exception": false,
     "start_time": "2021-02-28T12:46:57.537672",
     "status": "completed"
    },
    "tags": []
   },
   "outputs": [
    {
     "name": "stdout",
     "output_type": "stream",
     "text": [
      "19104682\n"
     ]
    },
    {
     "name": "stderr",
     "output_type": "stream",
     "text": [
      "/opt/conda/lib/python3.7/site-packages/ipykernel_launcher.py:3: FutureWarning: DataFrame.mean and DataFrame.median with numeric_only=None will include datetime64 and datetime64tz columns in a future version.\n",
      "  This is separate from the ipykernel package so we can avoid doing imports until\n"
     ]
    },
    {
     "name": "stdout",
     "output_type": "stream",
     "text": [
      "0\n"
     ]
    }
   ],
   "source": [
    "data.drop(\"apple_mobility_transit\", axis=1, inplace = True)\n",
    "print(data.isnull().sum().sum())\n",
    "data.fillna(data.median(),inplace=True)\n",
    "print(data.isnull().sum().sum())"
   ]
  },
  {
   "cell_type": "code",
   "execution_count": 9,
   "metadata": {
    "execution": {
     "iopub.execute_input": "2021-02-28T12:47:00.587193Z",
     "iopub.status.busy": "2021-02-28T12:47:00.585636Z",
     "iopub.status.idle": "2021-02-28T12:47:13.762197Z",
     "shell.execute_reply": "2021-02-28T12:47:13.761578Z"
    },
    "papermill": {
     "duration": 13.400821,
     "end_time": "2021-02-28T12:47:13.762325",
     "exception": false,
     "start_time": "2021-02-28T12:47:00.361504",
     "status": "completed"
    },
    "tags": []
   },
   "outputs": [
    {
     "data": {
      "text/plain": [
       "(1179375, 43)"
      ]
     },
     "execution_count": 9,
     "metadata": {},
     "output_type": "execute_result"
    }
   ],
   "source": [
    "def trimm_correlated(df_in, threshold):\n",
    "    df_corr = df_in.corr(method='pearson', min_periods=1)\n",
    "    df_not_correlated = ~(df_corr.mask(np.tril(np.ones([len(df_corr)]*2, dtype=bool))).abs() > threshold).any()\n",
    "    un_corr_idx = df_not_correlated.loc[df_not_correlated[df_not_correlated.index] == True].index\n",
    "    df_out = df_in[un_corr_idx]\n",
    "    return df_out\n",
    "beta = data.drop([\"countyFIPS\",\"stateFIPS\",\"date\",\"confirmed_cases\",\"deaths\",'date_delta'], axis=1)\n",
    "beta = trimm_correlated(beta, .9)\n",
    "beta.shape"
   ]
  },
  {
   "cell_type": "code",
   "execution_count": 10,
   "metadata": {
    "execution": {
     "iopub.execute_input": "2021-02-28T12:47:13.941805Z",
     "iopub.status.busy": "2021-02-28T12:47:13.939900Z",
     "iopub.status.idle": "2021-02-28T12:47:13.942388Z",
     "shell.execute_reply": "2021-02-28T12:47:13.942799Z"
    },
    "papermill": {
     "duration": 0.158208,
     "end_time": "2021-02-28T12:47:13.942946",
     "exception": false,
     "start_time": "2021-02-28T12:47:13.784738",
     "status": "completed"
    },
    "tags": []
   },
   "outputs": [],
   "source": [
    "temp = data[['google_mobility_retail_and_recreation',\n",
    "       'google_mobility_grocery_and_pharmacy', 'google_mobility_parks',\n",
    "       'google_mobility_transit_stations', 'google_mobility_workplaces',\n",
    "       'google_mobility_residential', 'apple_mobility_driving',\n",
    "       'apple_mobility_walking',\n",
    "       'Electricity_Sales_ Revenue_Residential ($ x1000)',\n",
    "       'Electricity_Sales_ Revenue_Industrial ($ x1000)',\n",
    "       'Electricity_Sales_ Revenue_Transportation ($ x1000)',\n",
    "       'Electricity_Sales_ Customers_Count_Transportation',\n",
    "       'DOMESTIC_Air_Passengers', 'YoY_Reopened_Seated_Diner_Data',\n",
    "       'C_PCTPOVALL_2019', 'C_MEDHHINC_2019', 'C_TOT_POP', 'C_MinorityPCT',\n",
    "       'C_BlackPCT', 'C_HispanicPCT', 'C_M_Unemployment_Rate_corr',\n",
    "       'S_D_dly_new_test', 'S_D_cummulative_test',\n",
    "       'initclaims_count_regular_cw', 'initclaims_rate_regular_cw',\n",
    "       'spend_all_cd', 'merchants_all_cd', 'revenue_all_cd',\n",
    "       'critical_staffing_shortage_today_yes_SD', 'hospital_onset_covid_SD',\n",
    "       'hospital_onset_covid_coverage_SD', 'inpatient_beds_SD',\n",
    "       'previous_day_admission_adult_covid_confirmed_SD',\n",
    "       'previous_day_admission_adult_covid_suspected_SD',\n",
    "       'previous_day_admission_pediatric_covid_confirmed_SD',\n",
    "       'previous_day_admission_pediatric_covid_suspected_SD',\n",
    "       'staffed_adult_icu_bed_occupancy_SD',\n",
    "       'total_pediatric_patients_hospitalized_confirmed_and_suspected_covid_SD',\n",
    "       'total_pediatric_patients_hospitalized_confirmed_covid_SD',\n",
    "       'inpatient_beds_utilization_SD', 'percent_of_inpatients_with_covid_SD',\n",
    "       'adult_icu_bed_covid_utilization_SD', 'adult_icu_bed_utilization_SD',\"countyFIPS\",\"stateFIPS\",\"date_delta\",\"confirmed_cases\",\"deaths\"]]"
   ]
  },
  {
   "cell_type": "code",
   "execution_count": 11,
   "metadata": {
    "execution": {
     "iopub.execute_input": "2021-02-28T12:47:14.116425Z",
     "iopub.status.busy": "2021-02-28T12:47:14.114591Z",
     "iopub.status.idle": "2021-02-28T12:47:14.117012Z",
     "shell.execute_reply": "2021-02-28T12:47:14.117421Z"
    },
    "papermill": {
     "duration": 0.153125,
     "end_time": "2021-02-28T12:47:14.117576",
     "exception": false,
     "start_time": "2021-02-28T12:47:13.964451",
     "status": "completed"
    },
    "tags": []
   },
   "outputs": [],
   "source": [
    "gamma = temp.drop(\"deaths\", axis=1)"
   ]
  },
  {
   "cell_type": "code",
   "execution_count": 12,
   "metadata": {
    "execution": {
     "iopub.execute_input": "2021-02-28T12:47:14.288668Z",
     "iopub.status.busy": "2021-02-28T12:47:14.287880Z",
     "iopub.status.idle": "2021-02-28T12:47:14.290900Z",
     "shell.execute_reply": "2021-02-28T12:47:14.290441Z"
    },
    "papermill": {
     "duration": 0.152108,
     "end_time": "2021-02-28T12:47:14.291021",
     "exception": false,
     "start_time": "2021-02-28T12:47:14.138913",
     "status": "completed"
    },
    "tags": []
   },
   "outputs": [],
   "source": [
    "y_res = gamma['confirmed_cases']\n",
    "x_res = gamma.drop(['confirmed_cases'], axis=1, inplace=False)"
   ]
  },
  {
   "cell_type": "code",
   "execution_count": 13,
   "metadata": {
    "execution": {
     "iopub.execute_input": "2021-02-28T12:47:14.339072Z",
     "iopub.status.busy": "2021-02-28T12:47:14.338399Z",
     "iopub.status.idle": "2021-02-28T12:47:14.341501Z",
     "shell.execute_reply": "2021-02-28T12:47:14.341065Z"
    },
    "papermill": {
     "duration": 0.028342,
     "end_time": "2021-02-28T12:47:14.341623",
     "exception": false,
     "start_time": "2021-02-28T12:47:14.313281",
     "status": "completed"
    },
    "tags": []
   },
   "outputs": [],
   "source": [
    "model = xgb.XGBRegressor(tree_method = 'gpu_hist', gpu_id=0, objective ='reg:squarederror', colsample_bytree = 0.3, learning_rate = 0.1,\n",
    "                max_depth = 15, alpha = 10, n_estimators = 100)"
   ]
  },
  {
   "cell_type": "code",
   "execution_count": 14,
   "metadata": {
    "execution": {
     "iopub.execute_input": "2021-02-28T12:47:14.389697Z",
     "iopub.status.busy": "2021-02-28T12:47:14.388998Z",
     "iopub.status.idle": "2021-02-28T12:47:15.097459Z",
     "shell.execute_reply": "2021-02-28T12:47:15.095961Z"
    },
    "papermill": {
     "duration": 0.7344,
     "end_time": "2021-02-28T12:47:15.097602",
     "exception": false,
     "start_time": "2021-02-28T12:47:14.363202",
     "status": "completed"
    },
    "tags": []
   },
   "outputs": [],
   "source": [
    "xtrain, xtest, ytrain, ytest = train_test_split(x_res, y_res, test_size=0.15)"
   ]
  },
  {
   "cell_type": "code",
   "execution_count": 15,
   "metadata": {
    "execution": {
     "iopub.execute_input": "2021-02-28T12:47:15.148762Z",
     "iopub.status.busy": "2021-02-28T12:47:15.147617Z",
     "iopub.status.idle": "2021-02-28T12:48:40.678975Z",
     "shell.execute_reply": "2021-02-28T12:48:40.677782Z"
    },
    "papermill": {
     "duration": 85.558958,
     "end_time": "2021-02-28T12:48:40.679162",
     "exception": false,
     "start_time": "2021-02-28T12:47:15.120204",
     "status": "completed"
    },
    "tags": []
   },
   "outputs": [],
   "source": [
    "modelhist = model.fit(xtrain,ytrain)"
   ]
  },
  {
   "cell_type": "code",
   "execution_count": 16,
   "metadata": {
    "execution": {
     "iopub.execute_input": "2021-02-28T12:48:40.737307Z",
     "iopub.status.busy": "2021-02-28T12:48:40.735420Z",
     "iopub.status.idle": "2021-02-28T12:48:42.695093Z",
     "shell.execute_reply": "2021-02-28T12:48:42.693588Z"
    },
    "papermill": {
     "duration": 1.991318,
     "end_time": "2021-02-28T12:48:42.695289",
     "exception": false,
     "start_time": "2021-02-28T12:48:40.703971",
     "status": "completed"
    },
    "tags": []
   },
   "outputs": [
    {
     "data": {
      "text/plain": [
       "0.9939050800199364"
      ]
     },
     "execution_count": 16,
     "metadata": {},
     "output_type": "execute_result"
    }
   ],
   "source": [
    "model.score(xtest,ytest)"
   ]
  },
  {
   "cell_type": "code",
   "execution_count": 17,
   "metadata": {
    "execution": {
     "iopub.execute_input": "2021-02-28T12:48:42.779372Z",
     "iopub.status.busy": "2021-02-28T12:48:42.777759Z",
     "iopub.status.idle": "2021-02-28T12:48:44.924831Z",
     "shell.execute_reply": "2021-02-28T12:48:44.925595Z"
    },
    "papermill": {
     "duration": 2.19132,
     "end_time": "2021-02-28T12:48:44.925772",
     "exception": false,
     "start_time": "2021-02-28T12:48:42.734452",
     "status": "completed"
    },
    "tags": []
   },
   "outputs": [
    {
     "data": {
      "text/plain": [
       "array([ 20.395906 ,  -4.635296 , 829.4699   , ..., 451.62805  ,\n",
       "         1.4803442,  -1.2549728], dtype=float32)"
      ]
     },
     "execution_count": 17,
     "metadata": {},
     "output_type": "execute_result"
    }
   ],
   "source": [
    "ypred = model.predict(xtest)\n",
    "ypred"
   ]
  },
  {
   "cell_type": "code",
   "execution_count": 18,
   "metadata": {
    "execution": {
     "iopub.execute_input": "2021-02-28T12:48:44.980441Z",
     "iopub.status.busy": "2021-02-28T12:48:44.978817Z",
     "iopub.status.idle": "2021-02-28T12:48:47.465127Z",
     "shell.execute_reply": "2021-02-28T12:48:47.466025Z"
    },
    "papermill": {
     "duration": 2.516143,
     "end_time": "2021-02-28T12:48:47.466218",
     "exception": false,
     "start_time": "2021-02-28T12:48:44.950075",
     "status": "completed"
    },
    "tags": []
   },
   "outputs": [
    {
     "data": {
      "text/plain": [
       "1.0"
      ]
     },
     "execution_count": 18,
     "metadata": {},
     "output_type": "execute_result"
    }
   ],
   "source": [
    "model.score(xtest,ypred)"
   ]
  },
  {
   "cell_type": "code",
   "execution_count": 19,
   "metadata": {
    "execution": {
     "iopub.execute_input": "2021-02-28T12:48:47.522818Z",
     "iopub.status.busy": "2021-02-28T12:48:47.521012Z",
     "iopub.status.idle": "2021-02-28T12:48:58.199893Z",
     "shell.execute_reply": "2021-02-28T12:48:58.199474Z"
    },
    "papermill": {
     "duration": 10.709045,
     "end_time": "2021-02-28T12:48:58.200013",
     "exception": false,
     "start_time": "2021-02-28T12:48:47.490968",
     "status": "completed"
    },
    "tags": []
   },
   "outputs": [
    {
     "data": {
      "text/plain": [
       "0.9999086340051471"
      ]
     },
     "execution_count": 19,
     "metadata": {},
     "output_type": "execute_result"
    }
   ],
   "source": [
    "model.score(xtrain,ytrain)"
   ]
  },
  {
   "cell_type": "code",
   "execution_count": 20,
   "metadata": {
    "execution": {
     "iopub.execute_input": "2021-02-28T12:48:58.253978Z",
     "iopub.status.busy": "2021-02-28T12:48:58.253483Z",
     "iopub.status.idle": "2021-02-28T12:48:58.846447Z",
     "shell.execute_reply": "2021-02-28T12:48:58.846892Z"
    },
    "papermill": {
     "duration": 0.623813,
     "end_time": "2021-02-28T12:48:58.847059",
     "exception": false,
     "start_time": "2021-02-28T12:48:58.223246",
     "status": "completed"
    },
    "tags": []
   },
   "outputs": [
    {
     "data": {
      "text/html": [
       "<div>\n",
       "<style scoped>\n",
       "    .dataframe tbody tr th:only-of-type {\n",
       "        vertical-align: middle;\n",
       "    }\n",
       "\n",
       "    .dataframe tbody tr th {\n",
       "        vertical-align: top;\n",
       "    }\n",
       "\n",
       "    .dataframe thead th {\n",
       "        text-align: right;\n",
       "    }\n",
       "</style>\n",
       "<table border=\"1\" class=\"dataframe\">\n",
       "  <thead>\n",
       "    <tr style=\"text-align: right;\">\n",
       "      <th></th>\n",
       "      <th>countyFIPS</th>\n",
       "      <th>stateFIPS</th>\n",
       "      <th>date</th>\n",
       "      <th>google_mobility_retail_and_recreation</th>\n",
       "      <th>google_mobility_grocery_and_pharmacy</th>\n",
       "      <th>google_mobility_parks</th>\n",
       "      <th>google_mobility_transit_stations</th>\n",
       "      <th>google_mobility_workplaces</th>\n",
       "      <th>google_mobility_residential</th>\n",
       "      <th>apple_mobility_driving</th>\n",
       "      <th>...</th>\n",
       "      <th>total_adult_patients_hospitalized_confirmed_covid_SD</th>\n",
       "      <th>total_pediatric_patients_hospitalized_confirmed_and_suspected_covid_SD</th>\n",
       "      <th>total_pediatric_patients_hospitalized_confirmed_covid_SD</th>\n",
       "      <th>inpatient_beds_utilization_SD</th>\n",
       "      <th>inpatient_beds_utilization_numerator_SD</th>\n",
       "      <th>inpatient_beds_utilization_denominator_SD</th>\n",
       "      <th>percent_of_inpatients_with_covid_SD</th>\n",
       "      <th>inpatient_bed_covid_utilization_SD</th>\n",
       "      <th>adult_icu_bed_covid_utilization_SD</th>\n",
       "      <th>adult_icu_bed_utilization_SD</th>\n",
       "    </tr>\n",
       "  </thead>\n",
       "  <tbody>\n",
       "    <tr>\n",
       "      <th>0</th>\n",
       "      <td>1001</td>\n",
       "      <td>1</td>\n",
       "      <td>2/1/2021</td>\n",
       "      <td>-20.0</td>\n",
       "      <td>-5.0</td>\n",
       "      <td>NaN</td>\n",
       "      <td>NaN</td>\n",
       "      <td>-19.0</td>\n",
       "      <td>7.0</td>\n",
       "      <td>144.74</td>\n",
       "      <td>...</td>\n",
       "      <td>1887</td>\n",
       "      <td>26</td>\n",
       "      <td>16</td>\n",
       "      <td>0.745088</td>\n",
       "      <td>11262</td>\n",
       "      <td>15115</td>\n",
       "      <td>0.187557</td>\n",
       "      <td>0.140003</td>\n",
       "      <td>0.377079</td>\n",
       "      <td>0.87056</td>\n",
       "    </tr>\n",
       "    <tr>\n",
       "      <th>1</th>\n",
       "      <td>1003</td>\n",
       "      <td>1</td>\n",
       "      <td>2/1/2021</td>\n",
       "      <td>-18.0</td>\n",
       "      <td>-5.0</td>\n",
       "      <td>-18.0</td>\n",
       "      <td>-16.0</td>\n",
       "      <td>-22.0</td>\n",
       "      <td>5.0</td>\n",
       "      <td>129.11</td>\n",
       "      <td>...</td>\n",
       "      <td>1887</td>\n",
       "      <td>26</td>\n",
       "      <td>16</td>\n",
       "      <td>0.745088</td>\n",
       "      <td>11262</td>\n",
       "      <td>15115</td>\n",
       "      <td>0.187557</td>\n",
       "      <td>0.140003</td>\n",
       "      <td>0.377079</td>\n",
       "      <td>0.87056</td>\n",
       "    </tr>\n",
       "  </tbody>\n",
       "</table>\n",
       "<p>2 rows × 80 columns</p>\n",
       "</div>"
      ],
      "text/plain": [
       "   countyFIPS  stateFIPS      date  google_mobility_retail_and_recreation  \\\n",
       "0        1001          1  2/1/2021                                  -20.0   \n",
       "1        1003          1  2/1/2021                                  -18.0   \n",
       "\n",
       "   google_mobility_grocery_and_pharmacy  google_mobility_parks  \\\n",
       "0                                  -5.0                    NaN   \n",
       "1                                  -5.0                  -18.0   \n",
       "\n",
       "   google_mobility_transit_stations  google_mobility_workplaces  \\\n",
       "0                               NaN                       -19.0   \n",
       "1                             -16.0                       -22.0   \n",
       "\n",
       "   google_mobility_residential  apple_mobility_driving  ...  \\\n",
       "0                          7.0                  144.74  ...   \n",
       "1                          5.0                  129.11  ...   \n",
       "\n",
       "   total_adult_patients_hospitalized_confirmed_covid_SD  \\\n",
       "0                                               1887      \n",
       "1                                               1887      \n",
       "\n",
       "   total_pediatric_patients_hospitalized_confirmed_and_suspected_covid_SD  \\\n",
       "0                                                 26                        \n",
       "1                                                 26                        \n",
       "\n",
       "   total_pediatric_patients_hospitalized_confirmed_covid_SD  \\\n",
       "0                                                 16          \n",
       "1                                                 16          \n",
       "\n",
       "   inpatient_beds_utilization_SD  inpatient_beds_utilization_numerator_SD  \\\n",
       "0                       0.745088                                    11262   \n",
       "1                       0.745088                                    11262   \n",
       "\n",
       "   inpatient_beds_utilization_denominator_SD  \\\n",
       "0                                      15115   \n",
       "1                                      15115   \n",
       "\n",
       "   percent_of_inpatients_with_covid_SD  inpatient_bed_covid_utilization_SD  \\\n",
       "0                             0.187557                            0.140003   \n",
       "1                             0.187557                            0.140003   \n",
       "\n",
       "   adult_icu_bed_covid_utilization_SD  adult_icu_bed_utilization_SD  \n",
       "0                            0.377079                       0.87056  \n",
       "1                            0.377079                       0.87056  \n",
       "\n",
       "[2 rows x 80 columns]"
      ]
     },
     "execution_count": 20,
     "metadata": {},
     "output_type": "execute_result"
    }
   ],
   "source": [
    "test = pd.read_csv(\"/kaggle/input/testt-exl/EQ-2021-Validation-Data-Sample.csv\")\n",
    "test.head(2)"
   ]
  },
  {
   "cell_type": "code",
   "execution_count": 21,
   "metadata": {
    "execution": {
     "iopub.execute_input": "2021-02-28T12:48:59.022907Z",
     "iopub.status.busy": "2021-02-28T12:48:59.022043Z",
     "iopub.status.idle": "2021-02-28T12:48:59.041741Z",
     "shell.execute_reply": "2021-02-28T12:48:59.041309Z"
    },
    "papermill": {
     "duration": 0.167563,
     "end_time": "2021-02-28T12:48:59.041870",
     "exception": false,
     "start_time": "2021-02-28T12:48:58.874307",
     "status": "completed"
    },
    "tags": []
   },
   "outputs": [],
   "source": [
    "test['date'] = pd.to_datetime(data['date'])    \n",
    "test['date_delta'] = (test['date'] - test['date'].min())\n",
    "test[\"date_delta\"] = test[\"date_delta\"].astype('timedelta64[D]')"
   ]
  },
  {
   "cell_type": "code",
   "execution_count": 22,
   "metadata": {
    "execution": {
     "iopub.execute_input": "2021-02-28T12:48:59.098152Z",
     "iopub.status.busy": "2021-02-28T12:48:59.096961Z",
     "iopub.status.idle": "2021-02-28T12:48:59.100447Z",
     "shell.execute_reply": "2021-02-28T12:48:59.100853Z"
    },
    "papermill": {
     "duration": 0.034058,
     "end_time": "2021-02-28T12:48:59.100978",
     "exception": false,
     "start_time": "2021-02-28T12:48:59.066920",
     "status": "completed"
    },
    "tags": []
   },
   "outputs": [
    {
     "data": {
      "text/plain": [
       "Index(['countyFIPS', 'stateFIPS', 'date',\n",
       "       'google_mobility_retail_and_recreation',\n",
       "       'google_mobility_grocery_and_pharmacy', 'google_mobility_parks',\n",
       "       'google_mobility_transit_stations', 'google_mobility_workplaces',\n",
       "       'google_mobility_residential', 'apple_mobility_driving',\n",
       "       'apple_mobility_transit', 'apple_mobility_walking',\n",
       "       'Electricity_Sales_ Revenue_Residential ($ x1000)',\n",
       "       'Electricity_Sales_Sales_Residential(MWHr)',\n",
       "       'Electricity_Sales_Customers_Count_Residential',\n",
       "       'Electricity_Sales_Revenue_Commercial($ x1000)',\n",
       "       'Electricity_Sales_Sales_Commercial(MWHr)',\n",
       "       'Electricity_Sales_Customers_Count_Commercial',\n",
       "       'Electricity_Sales_ Revenue_Industrial ($ x1000)',\n",
       "       'Electricity_Sales_Sales_Industrial(MWHr)',\n",
       "       'Electricity_Sales_ Customers_Count_Transportation',\n",
       "       'Electricity_Sales_ Revenue_Transportation ($ x1000)',\n",
       "       'Electricity_Sales_Sales_Transportation(MWHr)',\n",
       "       'Electricity_Sales_Customers_Count_Transportation',\n",
       "       'YoY_Reopened_Seated_Diner_Data', 'DOMESTIC_Air_Passengers',\n",
       "       'INTERNATIONAL_Air_Passengers', 'DOMESTIC_Flights_Cnt',\n",
       "       'INTERNATIONAL_Flights_Cnt', 'test_count', 'test_rate', 'new_test_rate',\n",
       "       'new_test_count', 'C_PCTPOVALL_2019', 'C_PCTPOV017_2019',\n",
       "       'C_PCTPOV517_2019', 'C_MEDHHINC_2019', 'C_TOT_POP', 'C_TOT_MALE',\n",
       "       'C_TOT_FEMALE', 'C_WA_MALE', 'C_WA_FEMALE', 'C_MinorityPCT',\n",
       "       'C_BlackPCT', 'C_HispanicPCT', 'C_M_Labour_Force_corr',\n",
       "       'C_M_Employed_corr', 'C_M_Unemployment_Rate_corr', 'S_D_dly_new_test',\n",
       "       'S_D_cummulative_test', 'initclaims_count_regular_cw',\n",
       "       'initclaims_rate_regular_cw', 'merchants_all_cd', 'revenue_all_cd',\n",
       "       'spend_all_cd', 'critical_staffing_shortage_today_yes_SD',\n",
       "       'critical_staffing_shortage_anticipated_within_week_yes_SD',\n",
       "       'hospital_onset_covid_SD', 'hospital_onset_covid_coverage_SD',\n",
       "       'inpatient_beds_SD', 'inpatient_beds_coverage_SD',\n",
       "       'previous_day_admission_adult_covid_confirmed_SD',\n",
       "       'previous_day_admission_adult_covid_suspected_SD',\n",
       "       'previous_day_admission_pediatric_covid_confirmed_SD',\n",
       "       'previous_day_admission_pediatric_covid_suspected_SD',\n",
       "       'staffed_adult_icu_bed_occupancy_SD',\n",
       "       'staffed_adult_icu_bed_occupancy_coverage_SD',\n",
       "       'staffed_icu_adult_patients_confirmed_and_suspected_covid_SD',\n",
       "       'staffed_icu_adult_patients_confirmed_covid_SD',\n",
       "       'total_adult_patients_hospitalized_confirmed_and_suspected_covid_SD',\n",
       "       'total_adult_patients_hospitalized_confirmed_covid_SD',\n",
       "       'total_pediatric_patients_hospitalized_confirmed_and_suspected_covid_SD',\n",
       "       'total_pediatric_patients_hospitalized_confirmed_covid_SD',\n",
       "       'inpatient_beds_utilization_SD',\n",
       "       'inpatient_beds_utilization_numerator_SD',\n",
       "       'inpatient_beds_utilization_denominator_SD',\n",
       "       'percent_of_inpatients_with_covid_SD',\n",
       "       'inpatient_bed_covid_utilization_SD',\n",
       "       'adult_icu_bed_covid_utilization_SD', 'adult_icu_bed_utilization_SD',\n",
       "       'date_delta'],\n",
       "      dtype='object')"
      ]
     },
     "execution_count": 22,
     "metadata": {},
     "output_type": "execute_result"
    }
   ],
   "source": [
    "test.columns"
   ]
  },
  {
   "cell_type": "code",
   "execution_count": 23,
   "metadata": {
    "execution": {
     "iopub.execute_input": "2021-02-28T12:48:59.158237Z",
     "iopub.status.busy": "2021-02-28T12:48:59.156694Z",
     "iopub.status.idle": "2021-02-28T12:48:59.169128Z",
     "shell.execute_reply": "2021-02-28T12:48:59.168717Z"
    },
    "papermill": {
     "duration": 0.043644,
     "end_time": "2021-02-28T12:48:59.169264",
     "exception": false,
     "start_time": "2021-02-28T12:48:59.125620",
     "status": "completed"
    },
    "tags": []
   },
   "outputs": [],
   "source": [
    "test_data = test[['google_mobility_retail_and_recreation',\n",
    "       'google_mobility_grocery_and_pharmacy', 'google_mobility_parks',\n",
    "       'google_mobility_transit_stations', 'google_mobility_workplaces',\n",
    "       'google_mobility_residential', 'apple_mobility_driving',\n",
    "       'apple_mobility_walking',\n",
    "       'Electricity_Sales_ Revenue_Residential ($ x1000)',\n",
    "       'Electricity_Sales_ Revenue_Industrial ($ x1000)',\n",
    "       'Electricity_Sales_ Revenue_Transportation ($ x1000)',\n",
    "       'Electricity_Sales_ Customers_Count_Transportation',\n",
    "       'DOMESTIC_Air_Passengers', 'YoY_Reopened_Seated_Diner_Data',\n",
    "       'C_PCTPOVALL_2019', 'C_MEDHHINC_2019', 'C_TOT_POP', 'C_MinorityPCT',\n",
    "       'C_BlackPCT', 'C_HispanicPCT', 'C_M_Unemployment_Rate_corr',\n",
    "       'S_D_dly_new_test', 'S_D_cummulative_test',\n",
    "       'initclaims_count_regular_cw', 'initclaims_rate_regular_cw',\n",
    "       'spend_all_cd', 'merchants_all_cd', 'revenue_all_cd',\n",
    "       'critical_staffing_shortage_today_yes_SD', 'hospital_onset_covid_SD',\n",
    "       'hospital_onset_covid_coverage_SD', 'inpatient_beds_SD',\n",
    "       'previous_day_admission_adult_covid_confirmed_SD',\n",
    "       'previous_day_admission_adult_covid_suspected_SD',\n",
    "       'previous_day_admission_pediatric_covid_confirmed_SD',\n",
    "       'previous_day_admission_pediatric_covid_suspected_SD',\n",
    "       'staffed_adult_icu_bed_occupancy_SD',\n",
    "       'total_pediatric_patients_hospitalized_confirmed_and_suspected_covid_SD',\n",
    "       'total_pediatric_patients_hospitalized_confirmed_covid_SD',\n",
    "       'inpatient_beds_utilization_SD', 'percent_of_inpatients_with_covid_SD',\n",
    "       'adult_icu_bed_covid_utilization_SD', 'adult_icu_bed_utilization_SD',\"countyFIPS\",\"stateFIPS\",\"date_delta\"]]"
   ]
  },
  {
   "cell_type": "code",
   "execution_count": 24,
   "metadata": {
    "execution": {
     "iopub.execute_input": "2021-02-28T12:48:59.227193Z",
     "iopub.status.busy": "2021-02-28T12:48:59.226088Z",
     "iopub.status.idle": "2021-02-28T12:48:59.641653Z",
     "shell.execute_reply": "2021-02-28T12:48:59.642486Z"
    },
    "papermill": {
     "duration": 0.447866,
     "end_time": "2021-02-28T12:48:59.642673",
     "exception": false,
     "start_time": "2021-02-28T12:48:59.194807",
     "status": "completed"
    },
    "tags": []
   },
   "outputs": [
    {
     "data": {
      "text/plain": [
       "array([ 3261.4836,  4767.5513,  5837.0986, ..., 10639.998 , 23276.889 ,\n",
       "        9064.207 ], dtype=float32)"
      ]
     },
     "execution_count": 24,
     "metadata": {},
     "output_type": "execute_result"
    }
   ],
   "source": [
    "predictions = model.predict(test_data)\n",
    "predictions"
   ]
  },
  {
   "cell_type": "code",
   "execution_count": 25,
   "metadata": {
    "execution": {
     "iopub.execute_input": "2021-02-28T12:48:59.702364Z",
     "iopub.status.busy": "2021-02-28T12:48:59.700033Z",
     "iopub.status.idle": "2021-02-28T12:48:59.705473Z",
     "shell.execute_reply": "2021-02-28T12:48:59.705883Z"
    },
    "papermill": {
     "duration": 0.034627,
     "end_time": "2021-02-28T12:48:59.706013",
     "exception": false,
     "start_time": "2021-02-28T12:48:59.671386",
     "status": "completed"
    },
    "tags": []
   },
   "outputs": [
    {
     "data": {
      "text/plain": [
       "array([ 3261,  4768,  5837, ..., 10640, 23277,  9064])"
      ]
     },
     "execution_count": 25,
     "metadata": {},
     "output_type": "execute_result"
    }
   ],
   "source": [
    "predictions_values = np.around(predictions)\n",
    "predictions_values = predictions_values.astype(int)\n",
    "predictions_values"
   ]
  },
  {
   "cell_type": "code",
   "execution_count": 26,
   "metadata": {
    "execution": {
     "iopub.execute_input": "2021-02-28T12:48:59.765204Z",
     "iopub.status.busy": "2021-02-28T12:48:59.764577Z",
     "iopub.status.idle": "2021-02-28T12:48:59.770351Z",
     "shell.execute_reply": "2021-02-28T12:48:59.769856Z"
    },
    "papermill": {
     "duration": 0.037218,
     "end_time": "2021-02-28T12:48:59.770480",
     "exception": false,
     "start_time": "2021-02-28T12:48:59.733262",
     "status": "completed"
    },
    "tags": []
   },
   "outputs": [
    {
     "data": {
      "text/plain": [
       "47130"
      ]
     },
     "execution_count": 26,
     "metadata": {},
     "output_type": "execute_result"
    }
   ],
   "source": [
    "len(predictions_values)"
   ]
  },
  {
   "cell_type": "code",
   "execution_count": 27,
   "metadata": {
    "execution": {
     "iopub.execute_input": "2021-02-28T12:48:59.832973Z",
     "iopub.status.busy": "2021-02-28T12:48:59.832397Z",
     "iopub.status.idle": "2021-02-28T12:48:59.836724Z",
     "shell.execute_reply": "2021-02-28T12:48:59.836244Z"
    },
    "papermill": {
     "duration": 0.038727,
     "end_time": "2021-02-28T12:48:59.836845",
     "exception": false,
     "start_time": "2021-02-28T12:48:59.798118",
     "status": "completed"
    },
    "tags": []
   },
   "outputs": [
    {
     "data": {
      "text/html": [
       "<div>\n",
       "<style scoped>\n",
       "    .dataframe tbody tr th:only-of-type {\n",
       "        vertical-align: middle;\n",
       "    }\n",
       "\n",
       "    .dataframe tbody tr th {\n",
       "        vertical-align: top;\n",
       "    }\n",
       "\n",
       "    .dataframe thead th {\n",
       "        text-align: right;\n",
       "    }\n",
       "</style>\n",
       "<table border=\"1\" class=\"dataframe\">\n",
       "  <thead>\n",
       "    <tr style=\"text-align: right;\">\n",
       "      <th></th>\n",
       "      <th>Confirmed_cases</th>\n",
       "    </tr>\n",
       "  </thead>\n",
       "  <tbody>\n",
       "    <tr>\n",
       "      <th>0</th>\n",
       "      <td>3261</td>\n",
       "    </tr>\n",
       "    <tr>\n",
       "      <th>1</th>\n",
       "      <td>4768</td>\n",
       "    </tr>\n",
       "    <tr>\n",
       "      <th>2</th>\n",
       "      <td>5837</td>\n",
       "    </tr>\n",
       "    <tr>\n",
       "      <th>3</th>\n",
       "      <td>5477</td>\n",
       "    </tr>\n",
       "    <tr>\n",
       "      <th>4</th>\n",
       "      <td>3149</td>\n",
       "    </tr>\n",
       "  </tbody>\n",
       "</table>\n",
       "</div>"
      ],
      "text/plain": [
       "   Confirmed_cases\n",
       "0             3261\n",
       "1             4768\n",
       "2             5837\n",
       "3             5477\n",
       "4             3149"
      ]
     },
     "execution_count": 27,
     "metadata": {},
     "output_type": "execute_result"
    }
   ],
   "source": [
    "pred = pd.DataFrame(data=predictions_values, columns=[\"Confirmed_cases\"])\n",
    "pred.head(5)"
   ]
  },
  {
   "cell_type": "code",
   "execution_count": 28,
   "metadata": {
    "execution": {
     "iopub.execute_input": "2021-02-28T12:48:59.897300Z",
     "iopub.status.busy": "2021-02-28T12:48:59.896715Z",
     "iopub.status.idle": "2021-02-28T12:48:59.902311Z",
     "shell.execute_reply": "2021-02-28T12:48:59.901842Z"
    },
    "papermill": {
     "duration": 0.038561,
     "end_time": "2021-02-28T12:48:59.902431",
     "exception": false,
     "start_time": "2021-02-28T12:48:59.863870",
     "status": "completed"
    },
    "tags": []
   },
   "outputs": [
    {
     "data": {
      "text/html": [
       "<div>\n",
       "<style scoped>\n",
       "    .dataframe tbody tr th:only-of-type {\n",
       "        vertical-align: middle;\n",
       "    }\n",
       "\n",
       "    .dataframe tbody tr th {\n",
       "        vertical-align: top;\n",
       "    }\n",
       "\n",
       "    .dataframe thead th {\n",
       "        text-align: right;\n",
       "    }\n",
       "</style>\n",
       "<table border=\"1\" class=\"dataframe\">\n",
       "  <thead>\n",
       "    <tr style=\"text-align: right;\">\n",
       "      <th></th>\n",
       "      <th>Confirmed_cases</th>\n",
       "    </tr>\n",
       "  </thead>\n",
       "  <tbody>\n",
       "    <tr>\n",
       "      <th>0</th>\n",
       "      <td>3261.483643</td>\n",
       "    </tr>\n",
       "    <tr>\n",
       "      <th>1</th>\n",
       "      <td>4767.551270</td>\n",
       "    </tr>\n",
       "    <tr>\n",
       "      <th>2</th>\n",
       "      <td>5837.098633</td>\n",
       "    </tr>\n",
       "    <tr>\n",
       "      <th>3</th>\n",
       "      <td>5477.498535</td>\n",
       "    </tr>\n",
       "    <tr>\n",
       "      <th>4</th>\n",
       "      <td>3148.685547</td>\n",
       "    </tr>\n",
       "  </tbody>\n",
       "</table>\n",
       "</div>"
      ],
      "text/plain": [
       "   Confirmed_cases\n",
       "0      3261.483643\n",
       "1      4767.551270\n",
       "2      5837.098633\n",
       "3      5477.498535\n",
       "4      3148.685547"
      ]
     },
     "execution_count": 28,
     "metadata": {},
     "output_type": "execute_result"
    }
   ],
   "source": [
    "preds_decimal = pd.DataFrame(data=predictions, columns=[\"Confirmed_cases\"])\n",
    "preds_decimal.head(5)"
   ]
  },
  {
   "cell_type": "code",
   "execution_count": 29,
   "metadata": {
    "execution": {
     "iopub.execute_input": "2021-02-28T12:48:59.963366Z",
     "iopub.status.busy": "2021-02-28T12:48:59.962572Z",
     "iopub.status.idle": "2021-02-28T12:49:00.349170Z",
     "shell.execute_reply": "2021-02-28T12:49:00.349599Z"
    },
    "papermill": {
     "duration": 0.419016,
     "end_time": "2021-02-28T12:49:00.349767",
     "exception": false,
     "start_time": "2021-02-28T12:48:59.930751",
     "status": "completed"
    },
    "tags": []
   },
   "outputs": [
    {
     "data": {
      "text/html": [
       "<div>\n",
       "<style scoped>\n",
       "    .dataframe tbody tr th:only-of-type {\n",
       "        vertical-align: middle;\n",
       "    }\n",
       "\n",
       "    .dataframe tbody tr th {\n",
       "        vertical-align: top;\n",
       "    }\n",
       "\n",
       "    .dataframe thead th {\n",
       "        text-align: right;\n",
       "    }\n",
       "</style>\n",
       "<table border=\"1\" class=\"dataframe\">\n",
       "  <thead>\n",
       "    <tr style=\"text-align: right;\">\n",
       "      <th></th>\n",
       "      <th>countyFIPS</th>\n",
       "      <th>stateFIPS</th>\n",
       "      <th>date</th>\n",
       "      <th>google_mobility_retail_and_recreation</th>\n",
       "      <th>google_mobility_grocery_and_pharmacy</th>\n",
       "      <th>google_mobility_parks</th>\n",
       "      <th>google_mobility_transit_stations</th>\n",
       "      <th>google_mobility_workplaces</th>\n",
       "      <th>google_mobility_residential</th>\n",
       "      <th>apple_mobility_driving</th>\n",
       "      <th>...</th>\n",
       "      <th>total_adult_patients_hospitalized_confirmed_covid_SD</th>\n",
       "      <th>total_pediatric_patients_hospitalized_confirmed_and_suspected_covid_SD</th>\n",
       "      <th>total_pediatric_patients_hospitalized_confirmed_covid_SD</th>\n",
       "      <th>inpatient_beds_utilization_SD</th>\n",
       "      <th>inpatient_beds_utilization_numerator_SD</th>\n",
       "      <th>inpatient_beds_utilization_denominator_SD</th>\n",
       "      <th>percent_of_inpatients_with_covid_SD</th>\n",
       "      <th>inpatient_bed_covid_utilization_SD</th>\n",
       "      <th>adult_icu_bed_covid_utilization_SD</th>\n",
       "      <th>adult_icu_bed_utilization_SD</th>\n",
       "    </tr>\n",
       "  </thead>\n",
       "  <tbody>\n",
       "    <tr>\n",
       "      <th>0</th>\n",
       "      <td>1001</td>\n",
       "      <td>1</td>\n",
       "      <td>2/1/2021</td>\n",
       "      <td>-20.0</td>\n",
       "      <td>-5.0</td>\n",
       "      <td>NaN</td>\n",
       "      <td>NaN</td>\n",
       "      <td>-19.0</td>\n",
       "      <td>7.0</td>\n",
       "      <td>144.74</td>\n",
       "      <td>...</td>\n",
       "      <td>1887</td>\n",
       "      <td>26</td>\n",
       "      <td>16</td>\n",
       "      <td>0.745088</td>\n",
       "      <td>11262</td>\n",
       "      <td>15115</td>\n",
       "      <td>0.187557</td>\n",
       "      <td>0.140003</td>\n",
       "      <td>0.377079</td>\n",
       "      <td>0.87056</td>\n",
       "    </tr>\n",
       "    <tr>\n",
       "      <th>1</th>\n",
       "      <td>1003</td>\n",
       "      <td>1</td>\n",
       "      <td>2/1/2021</td>\n",
       "      <td>-18.0</td>\n",
       "      <td>-5.0</td>\n",
       "      <td>-18.0</td>\n",
       "      <td>-16.0</td>\n",
       "      <td>-22.0</td>\n",
       "      <td>5.0</td>\n",
       "      <td>129.11</td>\n",
       "      <td>...</td>\n",
       "      <td>1887</td>\n",
       "      <td>26</td>\n",
       "      <td>16</td>\n",
       "      <td>0.745088</td>\n",
       "      <td>11262</td>\n",
       "      <td>15115</td>\n",
       "      <td>0.187557</td>\n",
       "      <td>0.140003</td>\n",
       "      <td>0.377079</td>\n",
       "      <td>0.87056</td>\n",
       "    </tr>\n",
       "  </tbody>\n",
       "</table>\n",
       "<p>2 rows × 80 columns</p>\n",
       "</div>"
      ],
      "text/plain": [
       "   countyFIPS  stateFIPS      date  google_mobility_retail_and_recreation  \\\n",
       "0        1001          1  2/1/2021                                  -20.0   \n",
       "1        1003          1  2/1/2021                                  -18.0   \n",
       "\n",
       "   google_mobility_grocery_and_pharmacy  google_mobility_parks  \\\n",
       "0                                  -5.0                    NaN   \n",
       "1                                  -5.0                  -18.0   \n",
       "\n",
       "   google_mobility_transit_stations  google_mobility_workplaces  \\\n",
       "0                               NaN                       -19.0   \n",
       "1                             -16.0                       -22.0   \n",
       "\n",
       "   google_mobility_residential  apple_mobility_driving  ...  \\\n",
       "0                          7.0                  144.74  ...   \n",
       "1                          5.0                  129.11  ...   \n",
       "\n",
       "   total_adult_patients_hospitalized_confirmed_covid_SD  \\\n",
       "0                                               1887      \n",
       "1                                               1887      \n",
       "\n",
       "   total_pediatric_patients_hospitalized_confirmed_and_suspected_covid_SD  \\\n",
       "0                                                 26                        \n",
       "1                                                 26                        \n",
       "\n",
       "   total_pediatric_patients_hospitalized_confirmed_covid_SD  \\\n",
       "0                                                 16          \n",
       "1                                                 16          \n",
       "\n",
       "   inpatient_beds_utilization_SD  inpatient_beds_utilization_numerator_SD  \\\n",
       "0                       0.745088                                    11262   \n",
       "1                       0.745088                                    11262   \n",
       "\n",
       "   inpatient_beds_utilization_denominator_SD  \\\n",
       "0                                      15115   \n",
       "1                                      15115   \n",
       "\n",
       "   percent_of_inpatients_with_covid_SD  inpatient_bed_covid_utilization_SD  \\\n",
       "0                             0.187557                            0.140003   \n",
       "1                             0.187557                            0.140003   \n",
       "\n",
       "   adult_icu_bed_covid_utilization_SD  adult_icu_bed_utilization_SD  \n",
       "0                            0.377079                       0.87056  \n",
       "1                            0.377079                       0.87056  \n",
       "\n",
       "[2 rows x 80 columns]"
      ]
     },
     "execution_count": 29,
     "metadata": {},
     "output_type": "execute_result"
    }
   ],
   "source": [
    "datatest = pd.read_csv(\"/kaggle/input/testt-exl/EQ-2021-Validation-Data-Sample.csv\")\n",
    "datatest.head(2)"
   ]
  },
  {
   "cell_type": "code",
   "execution_count": 30,
   "metadata": {
    "execution": {
     "iopub.execute_input": "2021-02-28T12:49:00.421844Z",
     "iopub.status.busy": "2021-02-28T12:49:00.416370Z",
     "iopub.status.idle": "2021-02-28T12:49:00.424750Z",
     "shell.execute_reply": "2021-02-28T12:49:00.425211Z"
    },
    "papermill": {
     "duration": 0.042068,
     "end_time": "2021-02-28T12:49:00.425342",
     "exception": false,
     "start_time": "2021-02-28T12:49:00.383274",
     "status": "completed"
    },
    "tags": []
   },
   "outputs": [
    {
     "data": {
      "text/html": [
       "<div>\n",
       "<style scoped>\n",
       "    .dataframe tbody tr th:only-of-type {\n",
       "        vertical-align: middle;\n",
       "    }\n",
       "\n",
       "    .dataframe tbody tr th {\n",
       "        vertical-align: top;\n",
       "    }\n",
       "\n",
       "    .dataframe thead th {\n",
       "        text-align: right;\n",
       "    }\n",
       "</style>\n",
       "<table border=\"1\" class=\"dataframe\">\n",
       "  <thead>\n",
       "    <tr style=\"text-align: right;\">\n",
       "      <th></th>\n",
       "      <th>countyFIPS</th>\n",
       "      <th>stateFIPS</th>\n",
       "      <th>date</th>\n",
       "    </tr>\n",
       "  </thead>\n",
       "  <tbody>\n",
       "    <tr>\n",
       "      <th>0</th>\n",
       "      <td>1001</td>\n",
       "      <td>1</td>\n",
       "      <td>2/1/2021</td>\n",
       "    </tr>\n",
       "    <tr>\n",
       "      <th>1</th>\n",
       "      <td>1003</td>\n",
       "      <td>1</td>\n",
       "      <td>2/1/2021</td>\n",
       "    </tr>\n",
       "  </tbody>\n",
       "</table>\n",
       "</div>"
      ],
      "text/plain": [
       "   countyFIPS  stateFIPS      date\n",
       "0        1001          1  2/1/2021\n",
       "1        1003          1  2/1/2021"
      ]
     },
     "execution_count": 30,
     "metadata": {},
     "output_type": "execute_result"
    }
   ],
   "source": [
    "zeta = datatest[[\"countyFIPS\",\"stateFIPS\",\"date\"]]\n",
    "zeta.head(2)"
   ]
  },
  {
   "cell_type": "code",
   "execution_count": 31,
   "metadata": {
    "execution": {
     "iopub.execute_input": "2021-02-28T12:49:00.493942Z",
     "iopub.status.busy": "2021-02-28T12:49:00.492930Z",
     "iopub.status.idle": "2021-02-28T12:49:00.502535Z",
     "shell.execute_reply": "2021-02-28T12:49:00.502086Z"
    },
    "papermill": {
     "duration": 0.045946,
     "end_time": "2021-02-28T12:49:00.502662",
     "exception": false,
     "start_time": "2021-02-28T12:49:00.456716",
     "status": "completed"
    },
    "tags": []
   },
   "outputs": [
    {
     "data": {
      "text/html": [
       "<div>\n",
       "<style scoped>\n",
       "    .dataframe tbody tr th:only-of-type {\n",
       "        vertical-align: middle;\n",
       "    }\n",
       "\n",
       "    .dataframe tbody tr th {\n",
       "        vertical-align: top;\n",
       "    }\n",
       "\n",
       "    .dataframe thead th {\n",
       "        text-align: right;\n",
       "    }\n",
       "</style>\n",
       "<table border=\"1\" class=\"dataframe\">\n",
       "  <thead>\n",
       "    <tr style=\"text-align: right;\">\n",
       "      <th></th>\n",
       "      <th>countyFIPS</th>\n",
       "      <th>stateFIPS</th>\n",
       "      <th>date</th>\n",
       "      <th>Confirmed_cases</th>\n",
       "    </tr>\n",
       "  </thead>\n",
       "  <tbody>\n",
       "    <tr>\n",
       "      <th>0</th>\n",
       "      <td>1001</td>\n",
       "      <td>1</td>\n",
       "      <td>2/1/2021</td>\n",
       "      <td>3261</td>\n",
       "    </tr>\n",
       "    <tr>\n",
       "      <th>1</th>\n",
       "      <td>1003</td>\n",
       "      <td>1</td>\n",
       "      <td>2/1/2021</td>\n",
       "      <td>4768</td>\n",
       "    </tr>\n",
       "    <tr>\n",
       "      <th>2</th>\n",
       "      <td>1005</td>\n",
       "      <td>1</td>\n",
       "      <td>2/1/2021</td>\n",
       "      <td>5837</td>\n",
       "    </tr>\n",
       "    <tr>\n",
       "      <th>3</th>\n",
       "      <td>1007</td>\n",
       "      <td>1</td>\n",
       "      <td>2/1/2021</td>\n",
       "      <td>5477</td>\n",
       "    </tr>\n",
       "  </tbody>\n",
       "</table>\n",
       "</div>"
      ],
      "text/plain": [
       "   countyFIPS  stateFIPS      date  Confirmed_cases\n",
       "0        1001          1  2/1/2021             3261\n",
       "1        1003          1  2/1/2021             4768\n",
       "2        1005          1  2/1/2021             5837\n",
       "3        1007          1  2/1/2021             5477"
      ]
     },
     "execution_count": 31,
     "metadata": {},
     "output_type": "execute_result"
    }
   ],
   "source": [
    "finalresult = pd.concat([zeta, pred], axis=1)\n",
    "finalresult.head(4)"
   ]
  },
  {
   "cell_type": "code",
   "execution_count": 32,
   "metadata": {
    "execution": {
     "iopub.execute_input": "2021-02-28T12:49:00.569216Z",
     "iopub.status.busy": "2021-02-28T12:49:00.568296Z",
     "iopub.status.idle": "2021-02-28T12:49:00.572901Z",
     "shell.execute_reply": "2021-02-28T12:49:00.572461Z"
    },
    "papermill": {
     "duration": 0.04071,
     "end_time": "2021-02-28T12:49:00.573007",
     "exception": false,
     "start_time": "2021-02-28T12:49:00.532297",
     "status": "completed"
    },
    "tags": []
   },
   "outputs": [
    {
     "data": {
      "text/html": [
       "<div>\n",
       "<style scoped>\n",
       "    .dataframe tbody tr th:only-of-type {\n",
       "        vertical-align: middle;\n",
       "    }\n",
       "\n",
       "    .dataframe tbody tr th {\n",
       "        vertical-align: top;\n",
       "    }\n",
       "\n",
       "    .dataframe thead th {\n",
       "        text-align: right;\n",
       "    }\n",
       "</style>\n",
       "<table border=\"1\" class=\"dataframe\">\n",
       "  <thead>\n",
       "    <tr style=\"text-align: right;\">\n",
       "      <th></th>\n",
       "      <th>countyFIPS</th>\n",
       "      <th>stateFIPS</th>\n",
       "      <th>date</th>\n",
       "      <th>Confirmed_cases</th>\n",
       "    </tr>\n",
       "  </thead>\n",
       "  <tbody>\n",
       "    <tr>\n",
       "      <th>1</th>\n",
       "      <td>1001</td>\n",
       "      <td>1</td>\n",
       "      <td>2/1/2021</td>\n",
       "      <td>3261</td>\n",
       "    </tr>\n",
       "    <tr>\n",
       "      <th>2</th>\n",
       "      <td>1003</td>\n",
       "      <td>1</td>\n",
       "      <td>2/1/2021</td>\n",
       "      <td>4768</td>\n",
       "    </tr>\n",
       "    <tr>\n",
       "      <th>3</th>\n",
       "      <td>1005</td>\n",
       "      <td>1</td>\n",
       "      <td>2/1/2021</td>\n",
       "      <td>5837</td>\n",
       "    </tr>\n",
       "    <tr>\n",
       "      <th>4</th>\n",
       "      <td>1007</td>\n",
       "      <td>1</td>\n",
       "      <td>2/1/2021</td>\n",
       "      <td>5477</td>\n",
       "    </tr>\n",
       "  </tbody>\n",
       "</table>\n",
       "</div>"
      ],
      "text/plain": [
       "   countyFIPS  stateFIPS      date  Confirmed_cases\n",
       "1        1001          1  2/1/2021             3261\n",
       "2        1003          1  2/1/2021             4768\n",
       "3        1005          1  2/1/2021             5837\n",
       "4        1007          1  2/1/2021             5477"
      ]
     },
     "execution_count": 32,
     "metadata": {},
     "output_type": "execute_result"
    }
   ],
   "source": [
    "finalresult.index += 1\n",
    "finalresult.head(4)"
   ]
  },
  {
   "cell_type": "code",
   "execution_count": 33,
   "metadata": {
    "execution": {
     "iopub.execute_input": "2021-02-28T12:49:00.635921Z",
     "iopub.status.busy": "2021-02-28T12:49:00.635352Z",
     "iopub.status.idle": "2021-02-28T12:49:00.901355Z",
     "shell.execute_reply": "2021-02-28T12:49:00.900540Z"
    },
    "papermill": {
     "duration": 0.298529,
     "end_time": "2021-02-28T12:49:00.901490",
     "exception": false,
     "start_time": "2021-02-28T12:49:00.602961",
     "status": "completed"
    },
    "tags": []
   },
   "outputs": [],
   "source": [
    "finalresult.to_csv('finalresult.csv', index = True)"
   ]
  },
  {
   "cell_type": "code",
   "execution_count": 34,
   "metadata": {
    "execution": {
     "iopub.execute_input": "2021-02-28T12:49:00.972957Z",
     "iopub.status.busy": "2021-02-28T12:49:00.965419Z",
     "iopub.status.idle": "2021-02-28T12:49:00.975861Z",
     "shell.execute_reply": "2021-02-28T12:49:00.976276Z"
    },
    "papermill": {
     "duration": 0.044344,
     "end_time": "2021-02-28T12:49:00.976417",
     "exception": false,
     "start_time": "2021-02-28T12:49:00.932073",
     "status": "completed"
    },
    "tags": []
   },
   "outputs": [
    {
     "data": {
      "text/html": [
       "<div>\n",
       "<style scoped>\n",
       "    .dataframe tbody tr th:only-of-type {\n",
       "        vertical-align: middle;\n",
       "    }\n",
       "\n",
       "    .dataframe tbody tr th {\n",
       "        vertical-align: top;\n",
       "    }\n",
       "\n",
       "    .dataframe thead th {\n",
       "        text-align: right;\n",
       "    }\n",
       "</style>\n",
       "<table border=\"1\" class=\"dataframe\">\n",
       "  <thead>\n",
       "    <tr style=\"text-align: right;\">\n",
       "      <th></th>\n",
       "      <th>countyFIPS</th>\n",
       "      <th>stateFIPS</th>\n",
       "      <th>date</th>\n",
       "      <th>Confirmed_cases</th>\n",
       "    </tr>\n",
       "  </thead>\n",
       "  <tbody>\n",
       "    <tr>\n",
       "      <th>0</th>\n",
       "      <td>1001</td>\n",
       "      <td>1</td>\n",
       "      <td>2/1/2021</td>\n",
       "      <td>3261.483643</td>\n",
       "    </tr>\n",
       "    <tr>\n",
       "      <th>1</th>\n",
       "      <td>1003</td>\n",
       "      <td>1</td>\n",
       "      <td>2/1/2021</td>\n",
       "      <td>4767.551270</td>\n",
       "    </tr>\n",
       "    <tr>\n",
       "      <th>2</th>\n",
       "      <td>1005</td>\n",
       "      <td>1</td>\n",
       "      <td>2/1/2021</td>\n",
       "      <td>5837.098633</td>\n",
       "    </tr>\n",
       "    <tr>\n",
       "      <th>3</th>\n",
       "      <td>1007</td>\n",
       "      <td>1</td>\n",
       "      <td>2/1/2021</td>\n",
       "      <td>5477.498535</td>\n",
       "    </tr>\n",
       "  </tbody>\n",
       "</table>\n",
       "</div>"
      ],
      "text/plain": [
       "   countyFIPS  stateFIPS      date  Confirmed_cases\n",
       "0        1001          1  2/1/2021      3261.483643\n",
       "1        1003          1  2/1/2021      4767.551270\n",
       "2        1005          1  2/1/2021      5837.098633\n",
       "3        1007          1  2/1/2021      5477.498535"
      ]
     },
     "execution_count": 34,
     "metadata": {},
     "output_type": "execute_result"
    }
   ],
   "source": [
    "finalresult_decimal = pd.concat([zeta, preds_decimal], axis=1)\n",
    "finalresult_decimal.head(4)"
   ]
  },
  {
   "cell_type": "code",
   "execution_count": 35,
   "metadata": {
    "execution": {
     "iopub.execute_input": "2021-02-28T12:49:01.044227Z",
     "iopub.status.busy": "2021-02-28T12:49:01.043520Z",
     "iopub.status.idle": "2021-02-28T12:49:01.046864Z",
     "shell.execute_reply": "2021-02-28T12:49:01.047265Z"
    },
    "papermill": {
     "duration": 0.041889,
     "end_time": "2021-02-28T12:49:01.047382",
     "exception": false,
     "start_time": "2021-02-28T12:49:01.005493",
     "status": "completed"
    },
    "tags": []
   },
   "outputs": [
    {
     "data": {
      "text/html": [
       "<div>\n",
       "<style scoped>\n",
       "    .dataframe tbody tr th:only-of-type {\n",
       "        vertical-align: middle;\n",
       "    }\n",
       "\n",
       "    .dataframe tbody tr th {\n",
       "        vertical-align: top;\n",
       "    }\n",
       "\n",
       "    .dataframe thead th {\n",
       "        text-align: right;\n",
       "    }\n",
       "</style>\n",
       "<table border=\"1\" class=\"dataframe\">\n",
       "  <thead>\n",
       "    <tr style=\"text-align: right;\">\n",
       "      <th></th>\n",
       "      <th>countyFIPS</th>\n",
       "      <th>stateFIPS</th>\n",
       "      <th>date</th>\n",
       "      <th>Confirmed_cases</th>\n",
       "    </tr>\n",
       "  </thead>\n",
       "  <tbody>\n",
       "    <tr>\n",
       "      <th>1</th>\n",
       "      <td>1001</td>\n",
       "      <td>1</td>\n",
       "      <td>2/1/2021</td>\n",
       "      <td>3261.483643</td>\n",
       "    </tr>\n",
       "    <tr>\n",
       "      <th>2</th>\n",
       "      <td>1003</td>\n",
       "      <td>1</td>\n",
       "      <td>2/1/2021</td>\n",
       "      <td>4767.551270</td>\n",
       "    </tr>\n",
       "    <tr>\n",
       "      <th>3</th>\n",
       "      <td>1005</td>\n",
       "      <td>1</td>\n",
       "      <td>2/1/2021</td>\n",
       "      <td>5837.098633</td>\n",
       "    </tr>\n",
       "    <tr>\n",
       "      <th>4</th>\n",
       "      <td>1007</td>\n",
       "      <td>1</td>\n",
       "      <td>2/1/2021</td>\n",
       "      <td>5477.498535</td>\n",
       "    </tr>\n",
       "  </tbody>\n",
       "</table>\n",
       "</div>"
      ],
      "text/plain": [
       "   countyFIPS  stateFIPS      date  Confirmed_cases\n",
       "1        1001          1  2/1/2021      3261.483643\n",
       "2        1003          1  2/1/2021      4767.551270\n",
       "3        1005          1  2/1/2021      5837.098633\n",
       "4        1007          1  2/1/2021      5477.498535"
      ]
     },
     "execution_count": 35,
     "metadata": {},
     "output_type": "execute_result"
    }
   ],
   "source": [
    "finalresult_decimal.index += 1\n",
    "finalresult_decimal.head(4)"
   ]
  },
  {
   "cell_type": "code",
   "execution_count": 36,
   "metadata": {
    "execution": {
     "iopub.execute_input": "2021-02-28T12:49:01.113265Z",
     "iopub.status.busy": "2021-02-28T12:49:01.112523Z",
     "iopub.status.idle": "2021-02-28T12:49:01.302473Z",
     "shell.execute_reply": "2021-02-28T12:49:01.302031Z"
    },
    "papermill": {
     "duration": 0.224495,
     "end_time": "2021-02-28T12:49:01.302614",
     "exception": false,
     "start_time": "2021-02-28T12:49:01.078119",
     "status": "completed"
    },
    "tags": []
   },
   "outputs": [],
   "source": [
    "finalresult_decimal.to_csv('finalresult_decimal.csv', index = True)"
   ]
  }
 ],
 "metadata": {
  "kernelspec": {
   "display_name": "Python 3",
   "language": "python",
   "name": "python3"
  },
  "language_info": {
   "codemirror_mode": {
    "name": "ipython",
    "version": 3
   },
   "file_extension": ".py",
   "mimetype": "text/x-python",
   "name": "python",
   "nbconvert_exporter": "python",
   "pygments_lexer": "ipython3",
   "version": "3.7.9"
  },
  "papermill": {
   "default_parameters": {},
   "duration": 150.582187,
   "end_time": "2021-02-28T12:49:02.643766",
   "environment_variables": {},
   "exception": null,
   "input_path": "__notebook__.ipynb",
   "output_path": "__notebook__.ipynb",
   "parameters": {},
   "start_time": "2021-02-28T12:46:32.061579",
   "version": "2.2.2"
  }
 },
 "nbformat": 4,
 "nbformat_minor": 4
}
